{
 "cells": [
  {
   "cell_type": "markdown",
   "metadata": {},
   "source": [
    "# Geocoding and Web Mapping\n",
    "\n",
    "Getting Started with Python\n",
    "\n",
    "## Import statements\n",
    "\n",
    "We are going to use [geopy](https://geopy.readthedocs.io/en/stable/) to interface with the mapbox geocoder and the [folium](http://python-visualization.github.io/folium/) to create some simple webmaps."
   ]
  },
  {
   "cell_type": "code",
   "execution_count": null,
   "metadata": {},
   "outputs": [],
   "source": [
    "from geopy.geocoders import MapBox\n",
    "import folium\n",
    "\n",
    "print('Packages Imported')"
   ]
  },
  {
   "cell_type": "markdown",
   "metadata": {},
   "source": [
    "## Using the geocoder\n",
    "First, you must find your [access token](https://account.mapbox.com/access-tokens/).  Copy and paste it into the code below."
   ]
  },
  {
   "cell_type": "code",
   "execution_count": null,
   "metadata": {},
   "outputs": [],
   "source": [
    "# Paste your Access Token here\n",
    "access_token=\"\"\n",
    "\n",
    "# check if access token has been entered using an \"If Statement\"\n",
    "if access_token == \"\":\n",
    "    print('Enter your access token to continue')\n",
    "else:\n",
    "    geolocator = MapBox(api_key=access_token)\n",
    "    print('Mapbox Goelocator Loaded')"
   ]
  },
  {
   "cell_type": "markdown",
   "metadata": {},
   "source": [
    "## A quick test\n",
    "\n",
    "Lets try a simple example first!  Type any address here and see what comes up!"
   ]
  },
  {
   "cell_type": "code",
   "execution_count": null,
   "metadata": {},
   "outputs": [],
   "source": [
    "Location = \"Vancouver, BC, Canada\"\n",
    "Vancouver = geolocator.geocode(Location)\n",
    "\n",
    "print(Vancouver)\n",
    "print(Vancouver.latitude,Vancouver.longitude)"
   ]
  },
  {
   "attachments": {},
   "cell_type": "markdown",
   "metadata": {},
   "source": [
    "# Extra Credit Question 1\n",
    "\n",
    "Search for the address of the UBC Geography Building.\n",
    "\n",
    "* What address does it return?"
   ]
  },
  {
   "cell_type": "code",
   "execution_count": null,
   "metadata": {},
   "outputs": [],
   "source": [
    "Location = \"UBC Geography Building\"\n",
    "UBC_Geopgraphy = geolocator.geocode(Location)\n",
    "\n",
    "print(UBC_Geopgraphy)\n",
    "print(UBC_Geopgraphy.latitude,UBC_Geopgraphy.longitude)"
   ]
  },
  {
   "cell_type": "markdown",
   "metadata": {},
   "source": [
    "## Displaying our result on a web map"
   ]
  },
  {
   "cell_type": "code",
   "execution_count": null,
   "metadata": {},
   "outputs": [],
   "source": [
    "Map1 = folium.Map(\n",
    "    location=[Vancouver.latitude,Vancouver.longitude],\n",
    "    zoom_start=11,\n",
    ")\n",
    "\n",
    "point=folium.CircleMarker(\n",
    "        location=[Vancouver.latitude,Vancouver.longitude],\n",
    "        radius=10,\n",
    "        popup=Vancouver,\n",
    "        fill_opacity = 1,\n",
    "        fill=True,\n",
    "        color='black',\n",
    "        line_weight=.35,\n",
    "        fill_color='blue'\n",
    ")\n",
    "\n",
    "point.add_to(Map1)\n",
    "\n",
    "Map1"
   ]
  },
  {
   "cell_type": "markdown",
   "metadata": {},
   "source": [
    "## Chaning our basemap and zoom level"
   ]
  },
  {
   "cell_type": "code",
   "execution_count": null,
   "metadata": {},
   "outputs": [],
   "source": [
    "Map2 = folium.Map(\n",
    "    location=[Vancouver.latitude,Vancouver.longitude],\n",
    "    zoom_start=3,\n",
    "    tiles='Stamen Terrain'\n",
    ")\n",
    "\n",
    "point.add_to(Map2)\n",
    "\n",
    "Map2"
   ]
  },
  {
   "cell_type": "markdown",
   "metadata": {},
   "source": [
    "## Using Mapbox satelite tiles\n",
    "\n",
    "You can use your Mapbox account to access their satellite basemap layer."
   ]
  },
  {
   "cell_type": "code",
   "execution_count": null,
   "metadata": {},
   "outputs": [],
   "source": [
    "tileurl = 'https://api.mapbox.com/v4/mapbox.satellite/{z}/{x}/{y}@2x.png?access_token=' + str(access_token)\n",
    "Map3 = folium.Map(location=[Vancouver.latitude,Vancouver.longitude],\n",
    "                 zoom_start=12,\n",
    "                 tiles=tileurl, \n",
    "                 attr='Mapbox')\n",
    "\n",
    "point.add_to(Map3)\n",
    "\n",
    "Map3"
   ]
  },
  {
   "cell_type": "markdown",
   "metadata": {},
   "source": [
    "## Using functions to avoid repetition\n",
    "\n",
    "If we have multiple points to map, it would be redundant to type out the same command repeatedly.  We can create a [function](https://www.w3schools.com/python/python_functions.asp) to take some inputs and repeat the task for us."
   ]
  },
  {
   "cell_type": "code",
   "execution_count": null,
   "metadata": {},
   "outputs": [],
   "source": [
    "# \"def\" defines our function \"plot_point()\", which takes five \"arguments\":\n",
    "    # Map: The map you're working with\n",
    "    # X & Y: lattitude & longitude\n",
    "    # Popup_Text: What do we want the popup to say?\n",
    "    # Color: We'll set a defualt, but we can override with what colour do we want\n",
    "        # Everything else will remain the same for every point, so we can set them as default values\n",
    "    # Defaults can be over written by assigning them anoter value\n",
    "def plot_point(Map,X,Y,Popup_Text,Color='red',Radius=5,Opacity=.75,LineColor='black',LineWidth=.15):\n",
    "    folium.CircleMarker(\n",
    "        # The coordiatnates\n",
    "        location=[X,Y],\n",
    "        # Text description\n",
    "        popup=Popup_Text,\n",
    "        # sets the fill color for the point\n",
    "        fill_color=Color,\n",
    "        # Size of the marker\n",
    "        radius=Radius,\n",
    "        # Opacity of the circle\n",
    "        fill_opacity = Opacity,\n",
    "        # Sets the line color for the edge\n",
    "        color=LineColor,\n",
    "        # Width of the border line\n",
    "        line_weight=LineWidth,\n",
    "    ).add_to(Map)\n",
    "    \n",
    "Map4 = folium.Map(\n",
    "location=[0,0],\n",
    "zoom_start=2,\n",
    ")\n",
    "\n",
    "for city in ['Cairo EG','London UK','Toronto CA','Sao Palo BR']:\n",
    "    Result = geolocator.geocode(city)\n",
    "    point = plot_point(Map4,Result.latitude,Result.longitude,city)\n",
    "\n",
    "\n",
    "Map4"
   ]
  },
  {
   "attachments": {},
   "cell_type": "markdown",
   "metadata": {},
   "source": [
    "# Extra Credit Question 2\n",
    "\n",
    "These are blocks of code we can repeat multiple times to avoid repetition\n",
    "\n",
    "- Functions\n",
    "- Geocoding\n",
    "- Python\n"
   ]
  },
  {
   "cell_type": "markdown",
   "metadata": {},
   "source": [
    "## Reverse geocoding\n",
    "\n",
    "You can also go \"backwards\", starting with coordinates and getting an address *provided its somewhere with an address*\n"
   ]
  },
  {
   "cell_type": "code",
   "execution_count": null,
   "metadata": {},
   "outputs": [],
   "source": [
    "Location1 = ['49.2618188', '-123.2534169']\n",
    "Point = geolocator.reverse(Location1)\n",
    "print(Point,Point)\n",
    "\n",
    "# Note the different latitude\n",
    "Location2 = ['-49.2618188', '-123.2534169']\n",
    "Point = geolocator.reverse(Location2)\n",
    "print(Point,Point)\n",
    "\n",
    "\n",
    "# Note the different latitude\n",
    "Location3 = ['49.2618188', '-181.2534169']\n",
    "Point = geolocator.reverse(Location3)\n",
    "print(Point,Point)"
   ]
  },
  {
   "cell_type": "markdown",
   "metadata": {},
   "source": [
    "# Extra Credit Question 3\n",
    "\n",
    "Why do you think reverse geocoding the coordinates for \"Location2\" & \"Location3\" failed to return results?"
   ]
  },
  {
   "cell_type": "markdown",
   "metadata": {},
   "source": [
    "## Watch out for typos\n",
    "\n",
    "The functionality is fairly robust, but typos can cause errors in your results"
   ]
  },
  {
   "cell_type": "code",
   "execution_count": null,
   "metadata": {},
   "outputs": [],
   "source": [
    "Map5 = folium.Map(location=[Vancouver.latitude,Vancouver.longitude],\n",
    "                 zoom_start=11,\n",
    "                 tiles=tileurl, \n",
    "                 attr='Mapbox')\n",
    "\n",
    "for typo in [\"2710 Fraser Vancouver BC\",\n",
    "             \"2710 Faser Vancouver DC\",\n",
    "             \"2710 Faster Vancouver DC\"]:\n",
    "    UBC_Geography = geolocator.geocode(typo)\n",
    "\n",
    "    point = plot_point(Map5,UBC_Geography.latitude,UBC_Geography.longitude,UBC_Geography)\n",
    "\n",
    "    print('Search Term: ', typo)\n",
    "    print('Result: ', UBC_Geography)\n",
    "    print()\n",
    "\n",
    "Map5"
   ]
  },
  {
   "attachments": {},
   "cell_type": "markdown",
   "metadata": {},
   "source": [
    "## Ambiguity\n",
    "\n",
    "It is important to be specific when submitting queries.  The more information the geocoder has to work with, the more accurate your result.\n",
    "\n",
    "### Think of another city to try?"
   ]
  },
  {
   "cell_type": "code",
   "execution_count": null,
   "metadata": {},
   "outputs": [],
   "source": [
    "ExampleMap = folium.Map(\n",
    "    location=[0,0],\n",
    "    zoom_start=2,\n",
    "    tiles='Stamen Toner'\n",
    ")\n",
    "\n",
    "for search in ['Surrey','Surrey BC','Victoria','Victoria BC']:\n",
    "    City = geolocator.geocode(search)\n",
    "    plot_point(ExampleMap,City.latitude,City.longitude,City,Radius=15)\n",
    "    print('Search Term: ', City)\n",
    "    print('Result: ', City)\n",
    "    print()\n",
    "    \n",
    "ExampleMap"
   ]
  },
  {
   "attachments": {},
   "cell_type": "markdown",
   "metadata": {},
   "source": [
    "# Vancouver Street Trees\n",
    "\n",
    "We'll use a package called \"PANDAS\" to import a tabular dataset of street trees in the city of Vancouver\n"
   ]
  },
  {
   "cell_type": "code",
   "execution_count": null,
   "metadata": {},
   "outputs": [],
   "source": [
    "import pandas as pd\n",
    "Trees = pd.read_csv('data/street-trees.csv',delimiter=';')\n",
    "\n",
    "print('Number of Records')\n",
    "print(Trees.shape)\n",
    "print()\n",
    "print('Neighbourhoods:')\n",
    "print(Trees['NEIGHBOURHOOD_NAME'].unique())\n",
    "\n",
    "print()\n",
    "print('Data Preview')\n",
    "Trees.head()"
   ]
  },
  {
   "attachments": {},
   "cell_type": "markdown",
   "metadata": {},
   "source": [
    "# Querying Records\n",
    "\n",
    "The \".loc\" command has similar functionality to a \"Select by Attribute\" in ArcGIS Pro\n",
    "\n",
    "* Select a specific Neighbourhood"
   ]
  },
  {
   "cell_type": "code",
   "execution_count": null,
   "metadata": {},
   "outputs": [],
   "source": [
    "\n",
    "Your_Neighbourhood_Selection = 'MOUNT PLEASANT'\n",
    "\n",
    "Select_by_Neighbourhood = Trees.loc[\n",
    "    Trees['NEIGHBOURHOOD_NAME']==Your_Neighbourhood_Selection\n",
    "]\n",
    "\n",
    "Select_by_Neighbourhood"
   ]
  },
  {
   "attachments": {},
   "cell_type": "markdown",
   "metadata": {},
   "source": [
    "## Find the most 50 most common trees in the selected neighborhood\n",
    "\n",
    "# Extra Credit Question 4\n",
    "\n",
    "What is the most common street tree in Vancouver's Mount Pleasant neighborhood?"
   ]
  },
  {
   "cell_type": "code",
   "execution_count": null,
   "metadata": {},
   "outputs": [],
   "source": [
    "Most_Common_Trees = Select_by_Neighbourhood.groupby('COMMON_NAME').count()['TREE_ID'].sort_values()[-50:]\n",
    "\n",
    "print(Most_Common_Trees)\n"
   ]
  },
  {
   "cell_type": "markdown",
   "metadata": {},
   "source": [
    "## Find all the least common trees (species with only one tree!)\n",
    "\n",
    "# Extra Credit Question 5\n",
    "\n",
    "How many species have just one specimen present in Mt. Pleasant?"
   ]
  },
  {
   "cell_type": "code",
   "execution_count": null,
   "metadata": {
    "tags": []
   },
   "outputs": [],
   "source": [
    "Tree_Counts = Select_by_Neighbourhood.groupby('COMMON_NAME').count()['TREE_ID'].sort_values()\n",
    "\n",
    "Single_Trees = Tree_Counts.loc[Tree_Counts==1]\n",
    "\n",
    "print('Number of species with just one specimine in Mt. Pleasant: ',Single_Trees.count())\n",
    "# Your_Tree_Selection = \"\"\n",
    "\n",
    "Select_by_Tree = Select_by_Neighbourhood.loc[\n",
    "    Select_by_Neighbourhood['COMMON_NAME'].isin(Single_Trees.index)]\n",
    "\n",
    "print()\n",
    "\n",
    "Select_by_Tree"
   ]
  },
  {
   "cell_type": "markdown",
   "metadata": {},
   "source": [
    "## Make a Map of all the selected Trees in the selected Neighbourhood"
   ]
  },
  {
   "cell_type": "code",
   "execution_count": null,
   "metadata": {},
   "outputs": [],
   "source": [
    "# This tool gives us a progress bar\n",
    "from ipywidgets import FloatProgress\n",
    "import random\n",
    "\n",
    "i = 0\n",
    "prog = FloatProgress(min=0, max=100,description='Progress:')\n",
    "prog.value=0\n",
    "display(prog)\n",
    "\n",
    "# Creat our Tree Map\n",
    "TreeMap = folium.Map(\n",
    "    location=[49.279862, -123.116838],\n",
    "    zoom_start=11,\n",
    ")\n",
    "\n",
    "\n",
    "for index, row in Select_by_Tree.iterrows():    \n",
    "    attempt = str(row['ON_STREET_BLOCK'])+' '+row['ON_STREET']+ ', Vancouver, BC, Canada'\n",
    "    g = geolocator.geocode(attempt)\n",
    "    \n",
    "    # Genrate a random color\n",
    "    rando = lambda: random.randint(0,255)\n",
    "    color = ('#%02X%02X%02X' % (rando(),rando(),rando()))\n",
    "    \n",
    "    HTML_Pop_up_Text = '''\n",
    "    <b>Species Name:</b> '''+row['COMMON_NAME']+'''<br>\n",
    "    <b>Date Planted:</b> '''+str(row['DATE_PLANTED'])+'''<br>\n",
    "    <b>Geocode Attempt:</b> '''+attempt+'''<br>\n",
    "    <b>Geocode Result:</b> '''+g.address\n",
    "    \n",
    "    iframe = folium.IFrame(HTML_Pop_up_Text)\n",
    "    popup = folium.Popup(iframe,\n",
    "                     min_width=500,\n",
    "                     max_width=500,\n",
    "                     min_height=100,\n",
    "                     max_height=500)\n",
    "    \n",
    "    plot_point(TreeMap,g.latitude,g.longitude,popup,Color=color,Radius=15)\n",
    "    \n",
    "    ## Update the progress bar\n",
    "    i += 1\n",
    "    prog.value=i/len(Select_by_Tree)*100\n",
    "    \n",
    "TreeMap"
   ]
  },
  {
   "cell_type": "markdown",
   "metadata": {},
   "source": [
    "# Extra Credit Question 6\n",
    "\n",
    "What file format are we using to save this webmap?"
   ]
  },
  {
   "cell_type": "code",
   "execution_count": null,
   "metadata": {},
   "outputs": [],
   "source": [
    "TreeMap.save('MtPleasant_Trees.html')"
   ]
  },
  {
   "cell_type": "markdown",
   "metadata": {},
   "source": [
    "# Extra Credit Question 7\n",
    "\n",
    "In one or two sentences, explain what geocoding does."
   ]
  },
  {
   "cell_type": "markdown",
   "metadata": {},
   "source": [
    "# Extra Credit Question 8\n",
    "\n",
    "Select a different neighbourhood and re-run the blocks of code.  Create a  web map for the neighbourhood you selected, take a screenshot, and upload  it to TopHat.  If you weren't able to follow along, you can submit a  picture/screenshot of the Mt. Pleasant map for participation credit.  Note, your file must be in .png or .jpg format.\n",
    "\n",
    "Hint:  In code block [17], you need to change the selection criteria\n",
    "\n",
    "    Your_Neighbourhood_Selection = 'MOUNT PLEASANT'\n"
   ]
  },
  {
   "cell_type": "code",
   "execution_count": null,
   "metadata": {},
   "outputs": [],
   "source": []
  }
 ],
 "metadata": {
  "kernelspec": {
   "display_name": "Python 3 (ipykernel)",
   "language": "python",
   "name": "python3"
  },
  "language_info": {
   "codemirror_mode": {
    "name": "ipython",
    "version": 3
   },
   "file_extension": ".py",
   "mimetype": "text/x-python",
   "name": "python",
   "nbconvert_exporter": "python",
   "pygments_lexer": "ipython3",
   "version": "3.10.6"
  }
 },
 "nbformat": 4,
 "nbformat_minor": 4
}
